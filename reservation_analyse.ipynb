{
 "cells": [
  {
   "cell_type": "code",
   "execution_count": null,
   "metadata": {},
   "outputs": [],
   "source": [
    "import pandas as pd\n",
    "import seaborn as sns\n",
    "import matplotlib.pyplot as plt\n",
    "\n",
    "%matplotlib inline"
   ]
  },
  {
   "cell_type": "code",
   "execution_count": null,
   "metadata": {},
   "outputs": [],
   "source": [
    "df = pd.read_excel('reservations.xlsx', \n",
    "                   names=['doc', 'spec', 'source', 'patient', 'date_done', \n",
    "                          'user', 'date_reserv', 'date_call', 'waiting_days'])"
   ]
  },
  {
   "cell_type": "code",
   "execution_count": null,
   "metadata": {},
   "outputs": [],
   "source": [
    "df['date_done'] = pd.to_datetime(df['date_done'])\n",
    "df['date_reserv'] = pd.to_datetime(df['date_reserv'])"
   ]
  },
  {
   "cell_type": "code",
   "execution_count": null,
   "metadata": {},
   "outputs": [],
   "source": [
    "df.set_index('date_done', drop=False, inplace=True)"
   ]
  },
  {
   "cell_type": "code",
   "execution_count": null,
   "metadata": {},
   "outputs": [],
   "source": [
    "# Поиск чаще всего записывающихся/записываемых\n",
    "\n",
    "df \\\n",
    "    .groupby('patient', as_index=False) \\\n",
    "    .agg({'date_done': 'count'}) \\\n",
    "    .sort_values('date_done', ascending=False) \\\n",
    "    .head(30)"
   ]
  },
  {
   "cell_type": "code",
   "execution_count": null,
   "metadata": {},
   "outputs": [],
   "source": [
    "# Поиск чаще всего записывающихся/записываемых в резрезе врача и источника записи\n",
    "\n",
    "df \\\n",
    "    .groupby(['patient', 'doc', 'source'], as_index=False) \\\n",
    "    .agg({'date_done': 'count'}) \\\n",
    "    .sort_values('date_done', ascending=False) \\\n",
    "    .query('date_done > 10')"
   ]
  },
  {
   "cell_type": "code",
   "execution_count": null,
   "metadata": {},
   "outputs": [],
   "source": [
    "# Максимальное число отмен и время последней отмены\n",
    "\n",
    "df[df['date_call'] == 'Запись отменена'] \\\n",
    "    .groupby('doc') \\\n",
    "    .agg({'date_call': 'count', 'date_done': 'max'}) \\\n",
    "    .sort_values('date_call', ascending=False).head(30)"
   ]
  },
  {
   "cell_type": "code",
   "execution_count": null,
   "metadata": {},
   "outputs": [],
   "source": [
    "# Создадим список нерабочих дней и рабочих суббот\n",
    "\n",
    "holidays = ['2022-01-03', '2022-01-04', '2022-01-05', '2022-01-06', '2022-01-07',\n",
    "            '2022-01-07', '2022-02-23', '2022-03-07', '2022-03-08', '2022-05-02',\n",
    "            '2022-05-03', '2022-05-09', '2022-05-10', '2022-06-13', '2022-11-04']\n",
    "working_saturday = ['2022-03-05']"
   ]
  },
  {
   "cell_type": "code",
   "execution_count": null,
   "metadata": {},
   "outputs": [],
   "source": [
    "# Отметим рабочий или нерабочий день\n",
    "\n",
    "df['is_business_day'] = df['date_reserv'].isin(working_saturday) | \\\n",
    "                                            (~(df['date_reserv'].isin(holidays)) & \n",
    "                                             ~(df['date_reserv'].dt.dayofweek >= 5))"
   ]
  },
  {
   "cell_type": "code",
   "execution_count": null,
   "metadata": {},
   "outputs": [],
   "source": [
    "# Отметим тех, кто в течение периода посетил врача хотя бы раз\n",
    "\n",
    "exclude = ['Запись отменена', 'Запись перенесена', 'Неявка']\n",
    "approved_patient = df.query('date_call not in @exclude').patient.unique()\n",
    "df['approved'] = df.patient.isin(approved_patient)"
   ]
  },
  {
   "cell_type": "code",
   "execution_count": null,
   "metadata": {},
   "outputs": [],
   "source": [
    "# Выделим записи вне расписания\n",
    "\n",
    "df['over_rasp'] = df.date_reserv.dt.hour == 0"
   ]
  },
  {
   "cell_type": "code",
   "execution_count": null,
   "metadata": {},
   "outputs": [],
   "source": [
    "date_begin = '2022-01-01'\n",
    "\n",
    "df_cancelled = df[df['date_call'] == 'Запись отменена'] \\\n",
    "                    .query('date_reserv >= @date_begin')\n",
    "\n",
    "# Отмен по источникам\n",
    "df_cancelled_by_src = df_cancelled \\\n",
    "                            .groupby(['doc', 'source'], as_index=False) \\\n",
    "                            .agg({'patient': 'count'}) \\\n",
    "                            .pivot(index='doc', columns='source', values='patient') \\\n",
    "                            .fillna(0).astype(int)\n",
    "\n",
    "# Отмен по специалисту\n",
    "df_cancelled_by_doc = df_cancelled \\\n",
    "                        .groupby('doc') \\\n",
    "                        .agg({'date_call': 'count'}) \\\n",
    "                        .sort_values('date_call', ascending=False)\n",
    "\n",
    "df_by_date = df \\\n",
    "                .query('date_reserv >= @date_begin')\n",
    "\n",
    "# Плановая запись на рабочие дни (без вне расписания)\n",
    "df_reservations = df_by_date \\\n",
    "                    .query('date_call not in @exclude & is_business_day & not over_rasp') \\\n",
    "                    .groupby(['doc', 'source'], as_index=False) \\\n",
    "                    .agg({'date_reserv': 'count'}) \\\n",
    "                    .pivot(index='doc', columns='source', values='date_reserv') \\\n",
    "                    .fillna(0).astype(int)\n",
    "\n",
    "# Статистика по отменам через интернет и регистратуру\n",
    "df_cancel_stat = df \\\n",
    "                    .query('date_reserv >= @date_begin') \\\n",
    "                    .groupby('doc').agg({'date_reserv': 'nunique'}) \\\n",
    "                    .merge(df_cancelled_by_doc, left_index=True, right_index=True) \\\n",
    "                    .merge(df_cancelled_by_src, left_index=True, right_index=True) \\\n",
    "                    .assign(cancel_int_rate = lambda x: round((x.Интернет/x.date_reserv)*100, 1),\n",
    "                            cancel_reg_rate = lambda x: round((x.Регистратура/x.date_reserv)*100, 1),\n",
    "                            cancel_rate = lambda x: round((x.date_call/x.date_reserv)*100, 1)) \\\n",
    "                    .sort_values('cancel_reg_rate', ascending=False)\n",
    "\n",
    "df_reservations \\\n",
    "    .merge(df_by_date\n",
    "                .query('date_call not in @exclude & is_business_day & over_rasp')\n",
    "                .groupby('doc')\n",
    "                .agg({'date_reserv': 'count'}),\n",
    "           left_index=True,\n",
    "           right_index=True) \\\n",
    "    .merge(df_cancel_stat[['date_reserv', 'cancel_reg_rate']],\n",
    "           left_index=True,\n",
    "           right_index=True) \\\n",
    "    .sort_values('cancel_reg_rate', ascending=False) \\\n",
    "    .rename(columns={'date_reserv_x': 'Вне расписания', 'date_reserv_y': 'Всего талонов',\n",
    "                     'cancel_reg_rate': 'Отмен регистратурой, %'})"
   ]
  },
  {
   "cell_type": "code",
   "execution_count": null,
   "metadata": {},
   "outputs": [],
   "source": [
    "# Статистика по отменам\n",
    "\n",
    "df_cancel_stat = df \\\n",
    "                    .groupby('doc').agg({'date_reserv': 'nunique'}) \\\n",
    "                    .merge(df_cancelled_by_doc, left_index=True, right_index=True) \\\n",
    "                    .merge(df_cancelled_by_src, left_index=True, right_index=True) \\\n",
    "                    .assign(cancel_int_rate = lambda x: round((x.Интернет/x.date_reserv)*100, 1),\n",
    "                            cancel_reg_rate = lambda x: round((x.Регистратура/x.date_reserv)*100, 1),\n",
    "                            cancel_rate = lambda x: round((x.date_call/x.date_reserv)*100, 1)) \\\n",
    "                    .rename(columns={'date_reserv': 'Записей', 'date_call': 'Талонов',\n",
    "                                     'cancel_int_rate': 'Отмен через интернет, %',\n",
    "                                     'cancel_reg_rate': 'Отмен через регистратуру, %',\n",
    "                                     'cancel_rate': 'Всего отмен, %',}) \\\n",
    "                    .sort_values('Отмен через регистратуру, %', ascending=False)\n",
    "df_cancel_stat"
   ]
  },
  {
   "cell_type": "code",
   "execution_count": null,
   "metadata": {},
   "outputs": [],
   "source": [
    "df \\\n",
    "    .query('date_call not in @exclude') \\\n",
    "    .groupby('doc', as_index=False) \\\n",
    "    .agg({'date_reserv': 'nunique'})"
   ]
  },
  {
   "cell_type": "code",
   "execution_count": null,
   "metadata": {},
   "outputs": [],
   "source": []
  },
  {
   "cell_type": "code",
   "execution_count": null,
   "metadata": {},
   "outputs": [],
   "source": [
    "df_cancelled \\\n",
    "    .groupby([df_cancelled['date_done'].dt.month, df_cancelled['doc']]) \\\n",
    "    .agg({'date_call': 'count'}) \\\n",
    "    .reset_index() \\\n",
    "    .to_excel('cancelled.xlsx')"
   ]
  },
  {
   "cell_type": "code",
   "execution_count": null,
   "metadata": {},
   "outputs": [],
   "source": [
    "df_cancelled.hist(by='doc', column='waiting_days', figsize=(20,10))"
   ]
  },
  {
   "cell_type": "code",
   "execution_count": null,
   "metadata": {},
   "outputs": [],
   "source": [
    "sns.histplot(data=df_cancelled, x='waiting_days')"
   ]
  },
  {
   "cell_type": "code",
   "execution_count": null,
   "metadata": {},
   "outputs": [],
   "source": [
    "df_cancelled \\\n",
    "    .groupby(['doc', 'source']) \\\n",
    "    .agg({'date_call': 'count'}) \\\n",
    "    .sort_values('date_call', ascending=False).head(30)"
   ]
  },
  {
   "cell_type": "code",
   "execution_count": null,
   "metadata": {},
   "outputs": [],
   "source": [
    "df.query('date_call != \"Запись отменена\"')"
   ]
  },
  {
   "cell_type": "code",
   "execution_count": null,
   "metadata": {},
   "outputs": [],
   "source": [
    "df.groupby(['patient', 'date_call']).agg({'date_reserv': 'count', 'waiting_days': 'sum'})"
   ]
  },
  {
   "cell_type": "code",
   "execution_count": null,
   "metadata": {},
   "outputs": [],
   "source": [
    "df \\\n",
    "    .query('not approved & source == \"Регистратура\"') \\\n",
    "    .groupby(['patient', 'doc'], as_index=False) \\\n",
    "    .agg({'date_reserv': 'count', 'waiting_days': 'sum'}) \\\n",
    "    .sort_values('date_reserv', ascending=False) \\\n",
    "    .groupby('patient') \\\n",
    "    .agg({'doc': ['count', 'nunique']}) \\\n",
    "    .sort_values(('doc', 'count'), ascending=False)"
   ]
  },
  {
   "cell_type": "code",
   "execution_count": null,
   "metadata": {},
   "outputs": [],
   "source": [
    "df \\\n",
    "    .query('not approved & source == \"Интернет\"') \\\n",
    "    .groupby(['patient', 'doc'], as_index=False) \\\n",
    "    .agg({'date_reserv': 'count', 'waiting_days': 'sum'}) \\\n",
    "    .sort_values('date_reserv', ascending=False)"
   ]
  },
  {
   "cell_type": "code",
   "execution_count": null,
   "metadata": {},
   "outputs": [],
   "source": []
  },
  {
   "cell_type": "code",
   "execution_count": null,
   "metadata": {},
   "outputs": [],
   "source": []
  },
  {
   "cell_type": "code",
   "execution_count": null,
   "metadata": {},
   "outputs": [],
   "source": []
  },
  {
   "cell_type": "code",
   "execution_count": null,
   "metadata": {},
   "outputs": [],
   "source": []
  },
  {
   "cell_type": "code",
   "execution_count": null,
   "metadata": {},
   "outputs": [],
   "source": []
  },
  {
   "cell_type": "code",
   "execution_count": null,
   "metadata": {},
   "outputs": [],
   "source": []
  },
  {
   "cell_type": "code",
   "execution_count": null,
   "metadata": {},
   "outputs": [],
   "source": []
  },
  {
   "cell_type": "code",
   "execution_count": null,
   "metadata": {},
   "outputs": [],
   "source": []
  }
 ],
 "metadata": {
  "kernelspec": {
   "display_name": "Python 3",
   "language": "python",
   "name": "python3"
  },
  "language_info": {
   "codemirror_mode": {
    "name": "ipython",
    "version": 3
   },
   "file_extension": ".py",
   "mimetype": "text/x-python",
   "name": "python",
   "nbconvert_exporter": "python",
   "pygments_lexer": "ipython3",
   "version": "3.8.5"
  }
 },
 "nbformat": 4,
 "nbformat_minor": 4
}
